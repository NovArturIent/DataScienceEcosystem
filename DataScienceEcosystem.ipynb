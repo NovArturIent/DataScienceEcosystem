{
 "cells": [
  {
   "cell_type": "markdown",
   "id": "dbbb43c0-f8fa-45c6-bf8e-d0316a856b6b",
   "metadata": {},
   "source": [
    "# Data Since Tools and Ecosystems"
   ]
  },
  {
   "cell_type": "markdown",
   "id": "fb98c881-69fb-4ce1-a3c7-a0c1fb02951e",
   "metadata": {},
   "source": [
    "## In this notebook, Data Science and Ecosystem are summarize."
   ]
  },
  {
   "cell_type": "markdown",
   "id": "c9b524e9-6b8d-443a-9d6f-8fd07c40234f",
   "metadata": {},
   "source": [
    "**Objectives:**\n",
    "- List popular languages for Data Science\n",
    "- Identify commonly used libraries\n",
    "- Demonstration arithmetic expressions\n",
    "- Convert time units using Phyton\n",
    "- Create tables using Markdown"
   ]
  },
  {
   "cell_type": "markdown",
   "id": "ae7eedd4-53db-451e-8507-d9396dc21333",
   "metadata": {},
   "source": [
    "## Some of the popular languages that Data Scientists use are: \n",
    "+ R\n",
    "+ Phyton\n",
    "+ SQL\n"
   ]
  },
  {
   "cell_type": "markdown",
   "id": "e5f2d95d-a0a9-4750-ad55-c2e5bad76f51",
   "metadata": {},
   "source": [
    "## Some of the commonly used libraries used by Data Scientist include:\n",
    "+ Pandas\n",
    "+ NumPy\n",
    "+ Matplotlib"
   ]
  },
  {
   "cell_type": "markdown",
   "id": "c6507cf7-159a-48f4-a70c-f8c6977eb786",
   "metadata": {},
   "source": [
    "|Data Sience Tools|\n",
    "|-----------------|\n",
    "|Jupyter Notebook |\n",
    "|R Studio |\n",
    "|Apache Zeppelin |"
   ]
  },
  {
   "cell_type": "markdown",
   "id": "b78025d1-40de-4fc6-a512-ad24eb40bf8a",
   "metadata": {},
   "source": [
    "### Below are a few examples of evaluating arithmetic expressions in Phyton."
   ]
  },
  {
   "cell_type": "code",
   "execution_count": 2,
   "id": "73542f81-e7fe-43f5-88b9-b970eae11819",
   "metadata": {},
   "outputs": [
    {
     "data": {
      "text/plain": [
       "17"
      ]
     },
     "execution_count": 2,
     "metadata": {},
     "output_type": "execute_result"
    }
   ],
   "source": [
    "# This is a simple aritmetic expression to multiply then add integers\n",
    "(3*4)+5"
   ]
  },
  {
   "cell_type": "code",
   "execution_count": 3,
   "id": "7b1d8d5c-3c44-436b-85af-50b9dedaa95d",
   "metadata": {},
   "outputs": [
    {
     "data": {
      "text/plain": [
       "3.3333333333333335"
      ]
     },
     "execution_count": 3,
     "metadata": {},
     "output_type": "execute_result"
    }
   ],
   "source": [
    "# This will convert 200 minutes to hours by dividing by 60\n",
    "200/60"
   ]
  },
  {
   "cell_type": "code",
   "execution_count": null,
   "id": "e3970d7e-4b55-4678-820f-2c2d697b8318",
   "metadata": {},
   "outputs": [],
   "source": []
  },
  {
   "cell_type": "markdown",
   "id": "a50f7db6-36a3-4452-90f1-311fd4616e8f",
   "metadata": {},
   "source": [
    "## Author\n",
    "Artur Wolny"
   ]
  }
 ],
 "metadata": {
  "kernelspec": {
   "display_name": "Python 3 (ipykernel)",
   "language": "python",
   "name": "python3"
  },
  "language_info": {
   "codemirror_mode": {
    "name": "ipython",
    "version": 3
   },
   "file_extension": ".py",
   "mimetype": "text/x-python",
   "name": "python",
   "nbconvert_exporter": "python",
   "pygments_lexer": "ipython3",
   "version": "3.12.8"
  }
 },
 "nbformat": 4,
 "nbformat_minor": 5
}
