{
 "cells": [
  {
   "cell_type": "code",
   "execution_count": null,
   "id": "2caccf55-1c80-47f4-9687-5846eb1b8697",
   "metadata": {},
   "outputs": [],
   "source": []
  }
 ],
 "metadata": {
  "kernelspec": {
   "display_name": "",
   "name": ""
  },
  "language_info": {
   "name": ""
  }
 },
 "nbformat": 4,
 "nbformat_minor": 5
}
